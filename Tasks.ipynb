{
 "cells": [
  {
   "cell_type": "code",
   "execution_count": 18,
   "id": "930dbf1e-da1b-4ec3-bdd9-756cfa5d8a4f",
   "metadata": {},
   "outputs": [
    {
     "name": "stdout",
     "output_type": "stream",
     "text": [
      "Welcome to the Coworker Task Tracker!\n",
      "\n",
      "Menu:\n",
      "1. Input coworkers and interactions\n",
      "2. View pending tasks\n",
      "3. Check off completed tasks\n",
      "4. Exit\n"
     ]
    },
    {
     "name": "stdin",
     "output_type": "stream",
     "text": [
      "Enter your choice (1/2/3/4):  1\n",
      "Enter your coworker's name:  Abel\n",
      "Have you said hi to Abel? (yes/no):  no\n"
     ]
    },
    {
     "name": "stdout",
     "output_type": "stream",
     "text": [
      "Didn't say hi to Abel. No tasks to add.\n",
      "\n",
      "Menu:\n",
      "1. Input coworkers and interactions\n",
      "2. View pending tasks\n",
      "3. Check off completed tasks\n",
      "4. Exit\n"
     ]
    },
    {
     "name": "stdin",
     "output_type": "stream",
     "text": [
      "Enter your choice (1/2/3/4):  Abel\n"
     ]
    },
    {
     "name": "stdout",
     "output_type": "stream",
     "text": [
      "Invalid choice. Please select 1, 2, 3, or 4.\n",
      "\n",
      "Menu:\n",
      "1. Input coworkers and interactions\n",
      "2. View pending tasks\n",
      "3. Check off completed tasks\n",
      "4. Exit\n"
     ]
    },
    {
     "name": "stdin",
     "output_type": "stream",
     "text": [
      "Enter your choice (1/2/3/4):  1\n",
      "Enter your coworker's name:  Abel\n",
      "Have you said hi to Abel? (yes/no):  yes\n",
      "Did Abel give you any tasks? (yes/no):  yes\n",
      "What is the task?  tagging\n",
      "Enter the deadline (e.g., 2024-12-10):  2024-12-04\n"
     ]
    },
    {
     "name": "stdout",
     "output_type": "stream",
     "text": [
      "Task added: tagging with deadline 2024-12-04\n",
      "\n",
      "Menu:\n",
      "1. Input coworkers and interactions\n",
      "2. View pending tasks\n",
      "3. Check off completed tasks\n",
      "4. Exit\n"
     ]
    },
    {
     "name": "stdin",
     "output_type": "stream",
     "text": [
      "Enter your choice (1/2/3/4):  2\n"
     ]
    },
    {
     "name": "stdout",
     "output_type": "stream",
     "text": [
      "\n",
      "Pending Tasks:\n",
      "- Task: tagging, Assigned by: Abel, Deadline: 2024-12-04\n",
      "\n",
      "Menu:\n",
      "1. Input coworkers and interactions\n",
      "2. View pending tasks\n",
      "3. Check off completed tasks\n",
      "4. Exit\n"
     ]
    },
    {
     "name": "stdin",
     "output_type": "stream",
     "text": [
      "Enter your choice (1/2/3/4):  2\n"
     ]
    },
    {
     "name": "stdout",
     "output_type": "stream",
     "text": [
      "\n",
      "Pending Tasks:\n",
      "- Task: tagging, Assigned by: Abel, Deadline: 2024-12-04\n",
      "\n",
      "Menu:\n",
      "1. Input coworkers and interactions\n",
      "2. View pending tasks\n",
      "3. Check off completed tasks\n",
      "4. Exit\n"
     ]
    },
    {
     "name": "stdin",
     "output_type": "stream",
     "text": [
      "Enter your choice (1/2/3/4):  3\n"
     ]
    },
    {
     "name": "stdout",
     "output_type": "stream",
     "text": [
      "\n",
      "Mark Completed Tasks:\n"
     ]
    },
    {
     "name": "stdin",
     "output_type": "stream",
     "text": [
      "Enter the task you completed (or type 'back' to return):  tagging\n"
     ]
    },
    {
     "name": "stdout",
     "output_type": "stream",
     "text": [
      "Task 'tagging' marked as completed.\n",
      "\n",
      "Menu:\n",
      "1. Input coworkers and interactions\n",
      "2. View pending tasks\n",
      "3. Check off completed tasks\n",
      "4. Exit\n"
     ]
    },
    {
     "name": "stdin",
     "output_type": "stream",
     "text": [
      "Enter your choice (1/2/3/4):  2\n"
     ]
    },
    {
     "name": "stdout",
     "output_type": "stream",
     "text": [
      "\n",
      "Pending Tasks:\n",
      "No pending tasks!\n",
      "\n",
      "Menu:\n",
      "1. Input coworkers and interactions\n",
      "2. View pending tasks\n",
      "3. Check off completed tasks\n",
      "4. Exit\n"
     ]
    },
    {
     "name": "stdin",
     "output_type": "stream",
     "text": [
      "Enter your choice (1/2/3/4):  4\n"
     ]
    },
    {
     "name": "stdout",
     "output_type": "stream",
     "text": [
      "Goodbye!\n"
     ]
    }
   ],
   "source": [
    "import json\n",
    "from datetime import datetime\n",
    "\n",
    "# File to save tasks persistently\n",
    "TASK_FILE = \"tasks.json\"\n",
    "\n",
    "# Load tasks from file (if any)\n",
    "def load_tasks():\n",
    "    try:\n",
    "        with open(TASK_FILE, \"r\") as file:\n",
    "            return json.load(file)\n",
    "    except FileNotFoundError:\n",
    "        return {}\n",
    "\n",
    "# Save tasks to file\n",
    "def save_tasks(tasks):\n",
    "    with open(TASK_FILE, \"w\") as file:\n",
    "        json.dump(tasks, file)\n",
    "\n",
    "# Main program\n",
    "def coworker_task_tracker():\n",
    "    tasks = load_tasks()  # Load existing tasks\n",
    "    print(\"Welcome to the Coworker Task Tracker!\")\n",
    "    \n",
    "    while True:\n",
    "        print(\"\\nMenu:\")\n",
    "        print(\"1. Input coworkers and interactions\")\n",
    "        print(\"2. View pending tasks\")\n",
    "        print(\"3. Check off completed tasks\")\n",
    "        print(\"4. Exit\")\n",
    "        \n",
    "        choice = input(\"Enter your choice (1/2/3/4): \").strip()\n",
    "        \n",
    "        if choice == \"1\":\n",
    "            coworker_name = input(\"Enter your coworker's name: \").strip()\n",
    "            said_hi = input(f\"Have you said hi to {coworker_name}? (yes/no): \").strip().lower()\n",
    "            \n",
    "            if said_hi == \"yes\":\n",
    "                has_task = input(f\"Did {coworker_name} give you any tasks? (yes/no): \").strip().lower()\n",
    "                if has_task == \"yes\":\n",
    "                    task_desc = input(\"What is the task? \").strip()\n",
    "                    deadline_str = input(\"Enter the deadline (e.g., 2024-12-10): \").strip()\n",
    "                    \n",
    "                    # Convert the deadline to a date object\n",
    "                    try:\n",
    "                        deadline = datetime.strptime(deadline_str, \"%Y-%m-%d\")\n",
    "                        tasks[task_desc] = {\"coworker\": coworker_name, \"deadline\": deadline_str}\n",
    "                        print(f\"Task added: {task_desc} with deadline {deadline_str}\")\n",
    "                    except ValueError:\n",
    "                        print(\"Invalid date format. Please use YYYY-MM-DD.\")\n",
    "                elif has_task == \"no\":\n",
    "                    print(f\"No tasks from {coworker_name}.\")\n",
    "            else:\n",
    "                print(f\"Didn't say hi to {coworker_name}. No tasks to add.\")\n",
    "        \n",
    "        elif choice == \"2\":\n",
    "            print(\"\\nPending Tasks:\")\n",
    "            if tasks:\n",
    "                for task, details in tasks.items():\n",
    "                    print(f\"- Task: {task}, Assigned by: {details['coworker']}, Deadline: {details['deadline']}\")\n",
    "            else:\n",
    "                print(\"No pending tasks!\")\n",
    "        \n",
    "        elif choice == \"3\":\n",
    "            print(\"\\nMark Completed Tasks:\")\n",
    "            completed_task = input(\"Enter the task you completed (or type 'back' to return): \").strip()\n",
    "            if completed_task in tasks:\n",
    "                del tasks[completed_task]\n",
    "                print(f\"Task '{completed_task}' marked as completed.\")\n",
    "            elif completed_task == \"back\":\n",
    "                continue\n",
    "            else:\n",
    "                print(\"Task not found.\")\n",
    "        \n",
    "        elif choice == \"4\":\n",
    "            save_tasks(tasks)  # Save tasks before exiting\n",
    "            print(\"Goodbye!\")\n",
    "            break\n",
    "        \n",
    "        else:\n",
    "            print(\"Invalid choice. Please select 1, 2, 3, or 4.\")\n",
    "\n",
    "# Run the program\n",
    "coworker_task_tracker()\n"
   ]
  },
  {
   "cell_type": "code",
   "execution_count": null,
   "id": "fa24ae70-86fc-42a6-8805-92655afe54a2",
   "metadata": {},
   "outputs": [],
   "source": []
  }
 ],
 "metadata": {
  "kernelspec": {
   "display_name": "Python 3 (ipykernel)",
   "language": "python",
   "name": "python3"
  },
  "language_info": {
   "codemirror_mode": {
    "name": "ipython",
    "version": 3
   },
   "file_extension": ".py",
   "mimetype": "text/x-python",
   "name": "python",
   "nbconvert_exporter": "python",
   "pygments_lexer": "ipython3",
   "version": "3.12.4"
  }
 },
 "nbformat": 4,
 "nbformat_minor": 5
}
